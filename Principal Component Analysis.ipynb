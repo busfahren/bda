{
 "cells": [
  {
   "cell_type": "markdown",
   "metadata": {},
   "source": [
    "# Principal Component Analysis"
   ]
  },
  {
   "cell_type": "markdown",
   "metadata": {},
   "source": [
    "### Reference\n",
    "[Andrew Ng - Principal Component Analysis (Coursera)](https://www.coursera.org/learn/machine-learning/lecture/ZYIPa/principal-component-analysis-algorithm)"
   ]
  },
  {
   "cell_type": "markdown",
   "metadata": {},
   "source": [
    "### Initialization"
   ]
  },
  {
   "cell_type": "code",
   "execution_count": 68,
   "metadata": {
    "collapsed": true
   },
   "outputs": [],
   "source": [
    "%matplotlib inline\n",
    "\n",
    "import numpy as np\n",
    "import matplotlib.pyplot as plt"
   ]
  },
  {
   "cell_type": "code",
   "execution_count": 69,
   "metadata": {
    "collapsed": false
   },
   "outputs": [],
   "source": [
    "A = np.array([[2, 2], \n",
    "              [3, 3], \n",
    "              [3, 2], \n",
    "              [4, 3], \n",
    "              [5, 5]])"
   ]
  },
  {
   "cell_type": "markdown",
   "metadata": {},
   "source": [
    "### Data preprocessing (Mean normalization)"
   ]
  },
  {
   "cell_type": "markdown",
   "metadata": {},
   "source": [
    "Compute data points' mean and subtract to center points around origin."
   ]
  },
  {
   "cell_type": "code",
   "execution_count": 89,
   "metadata": {
    "collapsed": false
   },
   "outputs": [
    {
     "data": {
      "text/plain": [
       "array([[-1.4, -1. ],\n",
       "       [-0.4,  0. ],\n",
       "       [-0.4, -1. ],\n",
       "       [ 0.6,  0. ],\n",
       "       [ 1.6,  2. ]])"
      ]
     },
     "execution_count": 89,
     "metadata": {},
     "output_type": "execute_result"
    }
   ],
   "source": [
    "mean = A.mean(axis=0)\n",
    "normalized = A - mean\n",
    "normalized"
   ]
  },
  {
   "cell_type": "code",
   "execution_count": 90,
   "metadata": {
    "collapsed": false
   },
   "outputs": [
    {
     "data": {
      "image/png": "[encoded data removed]",
      "text/plain": [
       "<matplotlib.figure.Figure at 0x107daf9b0>"
      ]
     },
     "metadata": {},
     "output_type": "display_data"
    }
   ],
   "source": [
    "plt.plot(*zip(*normalized), 'ro')\n",
    "plt.axis([-2.5, 2.5, -2.5, 2.5])\n",
    "plt.axvline(color='black') \n",
    "plt.axhline(color='black')\n",
    "plt.axes().set_aspect('equal')"
   ]
  },
  {
   "cell_type": "markdown",
   "metadata": {},
   "source": [
    "### Compute Covariance matrix"
   ]
  },
  {
   "cell_type": "code",
   "execution_count": 91,
   "metadata": {
    "collapsed": false
   },
   "outputs": [
    {
     "data": {
      "text/plain": [
       "array([[ 1.04,  1.  ],\n",
       "       [ 1.  ,  1.2 ]])"
      ]
     },
     "execution_count": 91,
     "metadata": {},
     "output_type": "execute_result"
    }
   ],
   "source": [
    "sigma = normalized.T.dot(normalized) / len(A)\n",
    "sigma"
   ]
  },
  {
   "cell_type": "markdown",
   "metadata": {},
   "source": [
    "### Compute Eigenvectors using Singular value decomposition"
   ]
  },
  {
   "cell_type": "code",
   "execution_count": 92,
   "metadata": {
    "collapsed": false
   },
   "outputs": [
    {
     "data": {
      "text/plain": [
       "array([[-0.6783269 , -0.73476024],\n",
       "       [-0.73476024,  0.6783269 ]])"
      ]
     },
     "execution_count": 92,
     "metadata": {},
     "output_type": "execute_result"
    }
   ],
   "source": [
    "from numpy.linalg import svd\n",
    "U, S, V = svd(sigma) # Lengths and normalied eigenvectors, v[:, i] refers to w[i]\n",
    "U"
   ]
  },
  {
   "cell_type": "code",
   "execution_count": 93,
   "metadata": {
    "collapsed": false
   },
   "outputs": [
    {
     "data": {
      "image/png": "[encoded data removed]",
      "text/plain": [
       "<matplotlib.figure.Figure at 0x107ae6908>"
      ]
     },
     "metadata": {},
     "output_type": "display_data"
    }
   ],
   "source": [
    "plt.plot(*zip(*normalized), 'ro')\n",
    "plt.axis([-2.5, 2.5, -2.5, 2.5])\n",
    "plt.axvline(color='black')\n",
    "plt.axhline(color='black')\n",
    "plt.arrow(0, 0, U[0, 0] * S[0], U[1, 0] * S[0])\n",
    "plt.arrow(0, 0, U[0, 1] * S[1], U[1, 1] * S[1])\n",
    "plt.axes().set_aspect('equal')"
   ]
  },
  {
   "cell_type": "markdown",
   "metadata": {},
   "source": [
    "### Transform data"
   ]
  },
  {
   "cell_type": "code",
   "execution_count": 94,
   "metadata": {
    "collapsed": false
   },
   "outputs": [
    {
     "data": {
      "text/plain": [
       "array([[ 1.68441791,  0.35033743],\n",
       "       [ 0.27133076,  0.2939041 ],\n",
       "       [ 1.006091  , -0.38442281],\n",
       "       [-0.40699614, -0.44085614],\n",
       "       [-2.55484353,  0.18103742]])"
      ]
     },
     "execution_count": 94,
     "metadata": {},
     "output_type": "execute_result"
    }
   ],
   "source": [
    "U.T # 2 x 2, rows represent eigenvectors\n",
    "normalized.T # 2 x 5, each column represents a (normalized) data point\n",
    "U.T.dot(normalized.T) # 2 x 5, each column represents a transformed data point\n",
    "transformed = U.T.dot(normalized.T).T # 5 x 2, each row represents a transformed data point\n",
    "transformed"
   ]
  },
  {
   "cell_type": "code",
   "execution_count": 95,
   "metadata": {
    "collapsed": false
   },
   "outputs": [
    {
     "data": {
      "image/png": "[encoded data removed]",
      "text/plain": [
       "<matplotlib.figure.Figure at 0x107b3a3c8>"
      ]
     },
     "metadata": {},
     "output_type": "display_data"
    }
   ],
   "source": [
    "# Shift principal components to x and y axes, respectively.\n",
    "plt.plot(*zip(*transformed), 'ro')\n",
    "plt.axis([-3, 3, -3, 3]) # widened x-axis\n",
    "plt.axvline(color='black')\n",
    "plt.axhline(color='black')\n",
    "plt.axes().set_aspect('equal')"
   ]
  },
  {
   "cell_type": "code",
   "execution_count": 96,
   "metadata": {
    "collapsed": false
   },
   "outputs": [
    {
     "data": {
      "text/plain": [
       "array([[-1.14258598, -1.23764331],\n",
       "       [-0.18405096, -0.19936306],\n",
       "       [-0.68245859, -0.73923567],\n",
       "       [ 0.27607643,  0.29904458],\n",
       "       [ 1.7330191 ,  1.87719745]])"
      ]
     },
     "execution_count": 96,
     "metadata": {},
     "output_type": "execute_result"
    }
   ],
   "source": [
    "reduced = transformed.copy()\n",
    "reduced[:, 1] = 0\n",
    "reduced = U.T.dot(reduced.T).T\n",
    "reduced"
   ]
  },
  {
   "cell_type": "code",
   "execution_count": 97,
   "metadata": {
    "collapsed": false
   },
   "outputs": [
    {
     "data": {
      "image/png": "[encoded data removed]",
      "text/plain": [
       "<matplotlib.figure.Figure at 0x1080d0c18>"
      ]
     },
     "metadata": {},
     "output_type": "display_data"
    }
   ],
   "source": [
    "plt.plot(*zip(*reduced), 'ro')\n",
    "plt.axis([-2.5, 2.5, -2.5, 2.5])\n",
    "plt.axvline(color='black')\n",
    "plt.axhline(color='black')\n",
    "plt.arrow(0, 0, U[0, 0] * S[0], U[1, 0] * S[0])\n",
    "plt.arrow(0, 0, U[0, 1] * S[1], U[1, 1] * S[1])\n",
    "plt.axes().set_aspect('equal')"
   ]
  },
  {
   "cell_type": "markdown",
   "metadata": {},
   "source": [
    "## Advantages of PCA"
   ]
  },
  {
   "cell_type": "markdown",
   "metadata": {},
   "source": [
    "### Variance of naively reduced values"
   ]
  },
  {
   "cell_type": "code",
   "execution_count": 179,
   "metadata": {
    "collapsed": false
   },
   "outputs": [
    {
     "data": {
      "text/plain": [
       "array([ 1.04,  1.2 ])"
      ]
     },
     "execution_count": 179,
     "metadata": {},
     "output_type": "execute_result"
    }
   ],
   "source": [
    "naively_reduced = normalized.copy()\n",
    "naively_reduced.var(axis=0)"
   ]
  },
  {
   "cell_type": "code",
   "execution_count": 109,
   "metadata": {
    "collapsed": false
   },
   "outputs": [
    {
     "data": {
      "text/plain": [
       "1.2"
      ]
     },
     "execution_count": 109,
     "metadata": {},
     "output_type": "execute_result"
    }
   ],
   "source": [
    "naively_reduced[:, 1].var()"
   ]
  },
  {
   "cell_type": "markdown",
   "metadata": {},
   "source": [
    "### Variance of reduced values"
   ]
  },
  {
   "cell_type": "code",
   "execution_count": 181,
   "metadata": {
    "collapsed": false
   },
   "outputs": [
    {
     "data": {
      "text/plain": [
       "array([ 2.1231949,  0.1168051])"
      ]
     },
     "execution_count": 181,
     "metadata": {},
     "output_type": "execute_result"
    }
   ],
   "source": [
    "reduced = transformed.copy()\n",
    "reduced.var(axis=0)"
   ]
  },
  {
   "cell_type": "code",
   "execution_count": 114,
   "metadata": {
    "collapsed": false
   },
   "outputs": [
    {
     "data": {
      "text/plain": [
       "2.1231948963187577"
      ]
     },
     "execution_count": 114,
     "metadata": {},
     "output_type": "execute_result"
    }
   ],
   "source": [
    "reduced[:, 0].var()"
   ]
  },
  {
   "cell_type": "markdown",
   "metadata": {
    "collapsed": true
   },
   "source": [
    "### Conclusion\n",
    "Naive reduction results in much greater loss of information in terms of variance lost."
   ]
  },
  {
   "cell_type": "markdown",
   "metadata": {},
   "source": [
    "## PCA's Problems"
   ]
  },
  {
   "cell_type": "code",
   "execution_count": 149,
   "metadata": {
    "collapsed": false
   },
   "outputs": [
    {
     "data": {
      "image/png": "[encoded data removed]",
      "text/plain": [
       "<matplotlib.figure.Figure at 0x1083615f8>"
      ]
     },
     "metadata": {},
     "output_type": "display_data"
    }
   ],
   "source": [
    "gauss = np.array([[-1.6, -2], [-2, -2.1], [-1.8, -2.2], [-1.8, -1.8], [-1.6, -1.8], [-1.5, -1.6], [-1.6, -1.7], [-1.9, -1.9]])\n",
    "axis_switch = gauss.copy()\n",
    "axis_switch[:, 0] = -axis_switch[:, 0]\n",
    "multi_gauss = np.concatenate((gauss, gauss * -1, axis_switch))\n",
    "\n",
    "plt.plot(*zip(*multi_gauss), 'ro')\n",
    "plt.axis([-2.5, 2.5, -2.5, 2.5])\n",
    "plt.axvline(color='black') \n",
    "plt.axhline(color='black')\n",
    "plt.axes().set_aspect('equal')"
   ]
  },
  {
   "cell_type": "markdown",
   "metadata": {},
   "source": [
    "Can be reduced by first applying a clustering and then for each point saving it's cluster and distance to the cluster mean."
   ]
  },
  {
   "cell_type": "code",
   "execution_count": 176,
   "metadata": {
    "collapsed": false
   },
   "outputs": [
    {
     "data": {
      "image/png": "[encoded data removed]",
      "text/plain": [
       "<matplotlib.figure.Figure at 0x108801278>"
      ]
     },
     "metadata": {},
     "output_type": "display_data"
    }
   ],
   "source": [
    "double_gauss = zip(np.arange(0., 1., 0.01), np.arange(0., 1., 0.01) ** 2)\n",
    "plt.plot(*zip(*double_gauss), 'ro')\n",
    "plt.axis([-1, 1, -1, 1])\n",
    "plt.axvline(color='black') \n",
    "plt.axhline(color='black')\n",
    "plt.axes().set_aspect('equal')"
   ]
  },
  {
   "cell_type": "markdown",
   "metadata": {},
   "source": [
    "Can be reduced by fitting a polynomial (non-linear regression) and mapping data points onto their distance to the polynomial."
   ]
  }
 ],
 "metadata": {
  "kernelspec": {
   "display_name": "Python 3",
   "language": "python",
   "name": "python3"
  },
  "language_info": {
   "codemirror_mode": {
    "name": "ipython",
    "version": 3
   },
   "file_extension": ".py",
   "mimetype": "text/x-python",
   "name": "python",
   "nbconvert_exporter": "python",
   "pygments_lexer": "ipython3",
   "version": "3.5.0"
  }
 },
 "nbformat": 4,
 "nbformat_minor": 0
}
