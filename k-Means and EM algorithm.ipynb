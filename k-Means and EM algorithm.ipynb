{
 "cells": [
  {
   "cell_type": "markdown",
   "metadata": {},
   "source": [
    "# k-Means and EM algorithm"
   ]
  },
  {
   "cell_type": "markdown",
   "metadata": {},
   "source": [
    "## Initialization"
   ]
  },
  {
   "cell_type": "code",
   "execution_count": 97,
   "metadata": {
    "collapsed": true
   },
   "outputs": [],
   "source": [
    "%matplotlib inline\n",
    "import matplotlib.pyplot as plt\n",
    "import numpy as np"
   ]
  },
  {
   "cell_type": "code",
   "execution_count": 263,
   "metadata": {
    "collapsed": true
   },
   "outputs": [],
   "source": [
    "def plot(points, labels):\n",
    "    plt.axis([0, 10, 0, 10])\n",
    "    plt.scatter(points[:, 0], points[:, 1], c=labels, s=100)\n",
    "    plt.show()"
   ]
  },
  {
   "cell_type": "code",
   "execution_count": 264,
   "metadata": {
    "collapsed": true
   },
   "outputs": [],
   "source": [
    "def log(points, labels):\n",
    "    unique_labels = np.unique(labels)\n",
    "    means = np.zeros(shape=(len(unique_labels), 2))\n",
    "    for label in unique_labels:\n",
    "        # Get mask to select points that have this label\n",
    "        mask = (labels == label)\n",
    "        # Calculate the center of all those points\n",
    "        # (Manhattan distance) using the average\n",
    "        means[label] = np.average(points[mask], axis=0)\n",
    "    \n",
    "    for i, mean in enumerate(means):\n",
    "        print(\"Mean %d: %s\" % (i, mean))\n",
    "\n",
    "    print(\"\\nPoint\\t\\tLabel\")\n",
    "    for i, p in enumerate(points):\n",
    "        print(\"(%.2f, %.2f):\\t%d\" % (p[0], p[1], labels[i]))"
   ]
  },
  {
   "cell_type": "markdown",
   "metadata": {},
   "source": [
    "## Algorithm"
   ]
  },
  {
   "cell_type": "code",
   "execution_count": 265,
   "metadata": {
    "collapsed": true
   },
   "outputs": [],
   "source": [
    "def iterate_k_means(points, labels):\n",
    "    unique_labels = np.unique(labels)\n",
    "    means = np.zeros(shape=(len(unique_labels), 2))\n",
    "\n",
    "    for label in unique_labels:\n",
    "        # Get mask to select points that have this label\n",
    "        mask = labels == label\n",
    "        # Calculate the center of all those points\n",
    "        # (Manhattan distance) using the average\n",
    "        means[label] = np.average(points[mask], axis=0)\n",
    "        \n",
    "    distances = np.ndarray(shape=(len(unique_labels), len(points)))\n",
    "    for i, mean in enumerate(means):\n",
    "        # For each mean calculate an array with its distance to each point\n",
    "        distances[i] = abs(points - mean).sum(axis=1)\n",
    "\n",
    "    # Get the minimum distance for each point\n",
    "    min_distances = distances.min(axis=0)\n",
    "\n",
    "    # Get an array of masks (for each) label by\n",
    "    # checking where the min_distance of each point is\n",
    "    masks = (distances == min_distances)\n",
    "\n",
    "    # Generate new labels by writing the label number\n",
    "    # where the mask says 'True'\n",
    "    # labels = np.array(shape=(len(points), 1), dtype=int)\n",
    "    for i, mask in enumerate(masks):\n",
    "        labels[mask] = i\n",
    "\n",
    "    return labels"
   ]
  },
  {
   "cell_type": "markdown",
   "metadata": {},
   "source": [
    "## Initial partitioning"
   ]
  },
  {
   "cell_type": "code",
   "execution_count": 266,
   "metadata": {
    "collapsed": false
   },
   "outputs": [
    {
     "data": {
      "image/png": "[encoded data removed]",
      "text/plain": [
       "<matplotlib.figure.Figure at 0x107eb09b0>"
      ]
     },
     "metadata": {},
     "output_type": "display_data"
    },
    {
     "name": "stdout",
     "output_type": "stream",
     "text": [
      "Mean 0: [ 3.66666667  5.83333333]\n",
      "Mean 1: [ 7.75  2.75]\n",
      "\n",
      "Point\t\tLabel\n",
      "(3.00, 8.00):\t0\n",
      "(4.00, 7.00):\t0\n",
      "(3.00, 6.00):\t0\n",
      "(3.00, 4.00):\t0\n",
      "(4.00, 5.00):\t0\n",
      "(5.00, 5.00):\t0\n",
      "(5.00, 2.00):\t1\n",
      "(8.00, 4.00):\t1\n",
      "(9.00, 4.00):\t1\n",
      "(9.00, 1.00):\t1\n"
     ]
    },
    {
     "data": {
      "image/png": "[encoded data removed]",
      "text/plain": [
       "<matplotlib.figure.Figure at 0x10803ef28>"
      ]
     },
     "metadata": {},
     "output_type": "display_data"
    },
    {
     "name": "stdout",
     "output_type": "stream",
     "text": [
      "Mean 0: [ 3.66666667  5.83333333]\n",
      "Mean 1: [ 7.75  2.75]\n",
      "\n",
      "Point\t\tLabel\n",
      "(3.00, 8.00):\t0\n",
      "(4.00, 7.00):\t0\n",
      "(3.00, 6.00):\t0\n",
      "(3.00, 4.00):\t0\n",
      "(4.00, 5.00):\t0\n",
      "(5.00, 5.00):\t0\n",
      "(5.00, 2.00):\t1\n",
      "(8.00, 4.00):\t1\n",
      "(9.00, 4.00):\t1\n",
      "(9.00, 1.00):\t1\n"
     ]
    },
    {
     "data": {
      "image/png": "[encoded data removed]",
      "text/plain": [
       "<matplotlib.figure.Figure at 0x108348f28>"
      ]
     },
     "metadata": {},
     "output_type": "display_data"
    },
    {
     "name": "stdout",
     "output_type": "stream",
     "text": [
      "Mean 0: [ 3.66666667  5.83333333]\n",
      "Mean 1: [ 7.75  2.75]\n",
      "\n",
      "Point\t\tLabel\n",
      "(3.00, 8.00):\t0\n",
      "(4.00, 7.00):\t0\n",
      "(3.00, 6.00):\t0\n",
      "(3.00, 4.00):\t0\n",
      "(4.00, 5.00):\t0\n",
      "(5.00, 5.00):\t0\n",
      "(5.00, 2.00):\t1\n",
      "(8.00, 4.00):\t1\n",
      "(9.00, 4.00):\t1\n",
      "(9.00, 1.00):\t1\n"
     ]
    }
   ],
   "source": [
    "points = np.array([[3, 8], [4, 7], [3, 6], [3, 4], [4, 5], [5, 5], [5, 2], [8, 4], [9, 4], [9, 1]])\n",
    "labels = np.array([0, 0, 0, 0, 1, 1, 1, 1, 1, 1])\n",
    "\n",
    "labels = iterate_k_means(points, labels)\n",
    "plot(points, labels)\n",
    "log(points, labels)\n",
    "\n",
    "labels = iterate_k_means(points, labels)\n",
    "plot(points, labels)\n",
    "log(points, labels)\n",
    "\n",
    "labels = iterate_k_means(points, labels)\n",
    "plot(points, labels)\n",
    "log(points, labels)"
   ]
  }
 ],
 "metadata": {
  "kernelspec": {
   "display_name": "Python 3",
   "language": "python",
   "name": "python3"
  },
  "language_info": {
   "codemirror_mode": {
    "name": "ipython",
    "version": 3
   },
   "file_extension": ".py",
   "mimetype": "text/x-python",
   "name": "python",
   "nbconvert_exporter": "python",
   "pygments_lexer": "ipython3",
   "version": "3.5.0"
  }
 },
 "nbformat": 4,
 "nbformat_minor": 0
}
